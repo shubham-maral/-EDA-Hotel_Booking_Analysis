{
  "nbformat": 4,
  "nbformat_minor": 0,
  "metadata": {
    "colab": {
      "private_outputs": true,
      "provenance": [],
      "collapsed_sections": [
        "vncDsAP0Gaoa",
        "FJNUwmbgGyua",
        "w6K7xa23Elo4",
        "yQaldy8SH6Dl",
        "PH-0ReGfmX4f",
        "mDgbUHAGgjLW",
        "O_i_v8NEhb9l",
        "HhfV-JJviCcP",
        "Y3lxredqlCYt",
        "3RnN4peoiCZX",
        "x71ZqKXriCWQ",
        "7hBIi_osiCS2",
        "JlHwYmJAmNHm",
        "35m5QtbWiB9F",
        "PoPl-ycgm1ru",
        "H0kj-8xxnORC",
        "nA9Y7ga8ng1Z",
        "PBTbrJXOngz2",
        "u3PMJOP6ngxN",
        "dauF4eBmngu3",
        "bKJF3rekwFvQ",
        "MSa1f5Uengrz",
        "GF8Ens_Soomf",
        "0wOQAZs5pc--",
        "K5QZ13OEpz2H",
        "lQ7QKXXCp7Bj",
        "448CDAPjqfQr",
        "KSlN3yHqYklG",
        "t6dVpIINYklI",
        "ijmpgYnKYklI",
        "-JiQyfWJYklI",
        "EM7whBJCYoAo",
        "fge-S5ZAYoAp",
        "85gYPyotYoAp",
        "RoGjAbkUYoAp",
        "4Of9eVA-YrdM",
        "iky9q4vBYrdO",
        "F6T5p64dYrdO",
        "y-Ehk30pYrdP",
        "bamQiAODYuh1",
        "QHF8YVU7Yuh3",
        "GwzvFGzlYuh3",
        "qYpmQ266Yuh3",
        "OH-pJp9IphqM",
        "bbFf2-_FphqN",
        "_ouA3fa0phqN",
        "Seke61FWphqN",
        "PIIx-8_IphqN",
        "t27r6nlMphqO",
        "r2jJGEOYphqO",
        "b0JNsNcRphqO",
        "BZR9WyysphqO",
        "jj7wYXLtphqO",
        "eZrbJ2SmphqO",
        "rFu4xreNphqO",
        "YJ55k-q6phqO",
        "gCFgpxoyphqP",
        "OVtJsKN_phqQ",
        "lssrdh5qphqQ",
        "U2RJ9gkRphqQ",
        "1M8mcRywphqQ",
        "tgIPom80phqQ",
        "JMzcOPDDphqR",
        "x-EpHcCOp1ci",
        "X_VqEhTip1ck",
        "8zGJKyg5p1ck",
        "PVzmfK_Ep1ck",
        "n3dbpmDWp1ck",
        "ylSl6qgtp1ck",
        "ZWILFDl5p1ck",
        "M7G43BXep1ck",
        "Ag9LCva-p1cl",
        "E6MkPsBcp1cl",
        "2cELzS2fp1cl",
        "3MPXvC8up1cl",
        "NC_X3p0fY2L0",
        "UV0SzAkaZNRQ",
        "YPEH6qLeZNRQ",
        "q29F0dvdveiT",
        "EXh0U9oCveiU",
        "22aHeOlLveiV",
        "JcMwzZxoAimU",
        "8G2x9gOozGDZ",
        "gCX9965dhzqZ",
        "gIfDvo9L0UH2"
      ],
      "toc_visible": true
    },
    "kernelspec": {
      "name": "python3",
      "display_name": "Python 3"
    },
    "language_info": {
      "name": "python"
    }
  },
  "cells": [
    {
      "cell_type": "markdown",
      "source": [
        "# **# Project Info -**"
      ],
      "metadata": {
        "id": "Y97hpQLCiwBZ"
      }
    },
    {
      "cell_type": "markdown",
      "source": [
        "##**> Project Name**    - **Hotel Booking Analysis**\n",
        "\n"
      ],
      "metadata": {
        "id": "vncDsAP0Gaoa"
      }
    },
    {
      "cell_type": "markdown",
      "source": [
        "  **Project Type**    - EDA\n",
        "\n",
        "  **Contribution**    - Shubham Maral (Individual)\n"
      ],
      "metadata": {
        "id": "beRrZCGUAJYm"
      }
    },
    {
      "cell_type": "code",
      "source": [
        "# Dataset First Look"
      ],
      "metadata": {
        "id": "yuy_KuHJFmtp"
      },
      "execution_count": null,
      "outputs": []
    },
    {
      "cell_type": "markdown",
      "source": [
        "## **> Project Summary -**"
      ],
      "metadata": {
        "id": "FJNUwmbgGyua"
      }
    },
    {
      "cell_type": "markdown",
      "source": [
        "Do you know about the factors that influence hotel booking rates and the best strategies to optimize your stay? This data-driven exploratory analysis project aims to answer such questions using a comprehensive hotel booking dataset.\n",
        "\n",
        "  The dataset at hand comprises booking information for both a city hotel and a resort hotel. It offers a wealth of valuable information, including the booking dates, length of stay, number of adults, children, and babies, and the availability of parking spaces, among other relevant variables. Importantly, all personally identifying information has been meticulously removed to ensure data privacy and anonymity."
      ],
      "metadata": {
        "id": "F6v_1wHtG2nS"
      }
    },
    {
      "cell_type": "code",
      "source": [],
      "metadata": {
        "id": "SlfIyVZjh5z7"
      },
      "execution_count": null,
      "outputs": []
    },
    {
      "cell_type": "markdown",
      "source": [
        "## **> My GitHub Link -**"
      ],
      "metadata": {
        "id": "w6K7xa23Elo4"
      }
    },
    {
      "cell_type": "markdown",
      "source": [
        "https://github.com/ShubhamMaral/Hotel-Booking-Analysis"
      ],
      "metadata": {
        "id": "h1o69JH3Eqqn"
      }
    },
    {
      "cell_type": "markdown",
      "source": [
        "## **> Problem Statement**\n"
      ],
      "metadata": {
        "id": "yQaldy8SH6Dl"
      }
    },
    {
      "cell_type": "markdown",
      "source": [
        "**Write Problem Statement Here.**"
      ],
      "metadata": {
        "id": "DpeJGUA3kjGy"
      }
    },
    {
      "cell_type": "markdown",
      "source": [
        "#### **> Define Your Business Objective?**"
      ],
      "metadata": {
        "id": "PH-0ReGfmX4f"
      }
    },
    {
      "cell_type": "code",
      "source": [],
      "metadata": {
        "id": "8j_1Ilphiby_"
      },
      "execution_count": null,
      "outputs": []
    },
    {
      "cell_type": "markdown",
      "source": [
        "Answer Here."
      ],
      "metadata": {
        "id": "PhDvGCAqmjP1"
      }
    },
    {
      "cell_type": "markdown",
      "source": [
        "## **> General Guidelines** : -  "
      ],
      "metadata": {
        "id": "mDgbUHAGgjLW"
      }
    },
    {
      "cell_type": "markdown",
      "source": [
        "1.   Well-structured, formatted, and commented code is required.\n",
        "2.   Exception Handling, Production Grade Code & Deployment Ready Code will be a plus. Those students will be awarded some additional credits.\n",
        "     \n",
        "     The additional credits will have advantages over other students during Star Student selection.\n",
        "       \n",
        "             [ Note: - Deployment Ready Code is defined as, the whole .ipynb notebook should be executable in one go\n",
        "                       without a single error logged. ]\n",
        "\n",
        "3.   Each and every logic should have proper comments.\n",
        "4. You may add as many number of charts you want. Make Sure for each and every chart the following format should be answered.\n",
        "        \n",
        "\n",
        "```\n",
        "# Chart visualization code\n",
        "```\n",
        "            \n",
        "\n",
        "*   Why did you pick the specific chart?\n",
        "*   What is/are the insight(s) found from the chart?\n",
        "* Will the gained insights help creating a positive business impact?\n",
        "Are there any insights that lead to negative growth? Justify with specific reason.\n",
        "\n",
        "5. You have to create at least 20 logical & meaningful charts having important insights.\n",
        "\n",
        "\n",
        "[ Hints : - Do the Vizualization in  a structured way while following \"UBM\" Rule.\n",
        "\n",
        "U - Univariate Analysis,\n",
        "\n",
        "B - Bivariate Analysis (Numerical - Categorical, Numerical - Numerical, Categorical - Categorical)\n",
        "\n",
        "M - Multivariate Analysis\n",
        " ]\n",
        "\n",
        "\n",
        "\n"
      ],
      "metadata": {
        "id": "ZrxVaUj-hHfC"
      }
    },
    {
      "cell_type": "markdown",
      "source": [
        "# \\"
      ],
      "metadata": {
        "id": "Xpro9pFVjslz"
      }
    },
    {
      "cell_type": "markdown",
      "source": [
        "# ***# Let's Begin !***"
      ],
      "metadata": {
        "id": "O_i_v8NEhb9l"
      }
    },
    {
      "cell_type": "markdown",
      "source": [
        "## ***1. Importing Libraries, Dataset Loading***"
      ],
      "metadata": {
        "id": "HhfV-JJviCcP"
      }
    },
    {
      "cell_type": "markdown",
      "source": [
        "### Import Libraries"
      ],
      "metadata": {
        "id": "Y3lxredqlCYt"
      }
    },
    {
      "cell_type": "code",
      "source": [
        "# Import Libraries\n",
        "import numpy as np\n",
        "import pandas as pd\n",
        "#import matplotlib as mpl\n",
        "import matplotlib.pyplot as plt\n",
        "import seaborn as sns\n",
        "#from datetime import datetime\n",
        "#from datetime import date\n",
        "#import folium\n",
        "#import plotly.express as px\n",
        "#%matplotlib inline"
      ],
      "metadata": {
        "id": "M8Vqi-pPk-HR"
      },
      "execution_count": null,
      "outputs": []
    },
    {
      "cell_type": "markdown",
      "source": [
        "### Dataset Loading"
      ],
      "metadata": {
        "id": "3RnN4peoiCZX"
      }
    },
    {
      "cell_type": "code",
      "source": [
        "# mount google drive\n",
        "from google.colab import drive\n",
        "drive.mount('/content/drive')\n",
        "\n",
        "# Load Dataset\n",
        "hdf= pd.read_csv('/content/drive/MyDrive/CapstoneProjects/HotelBookingAnalysis/HotelBookings.csv')\n"
      ],
      "metadata": {
        "id": "4CkvbW_SlZ_R"
      },
      "execution_count": null,
      "outputs": []
    },
    {
      "cell_type": "markdown",
      "source": [
        "\\"
      ],
      "metadata": {
        "id": "L7JdU1q7k8uk"
      }
    },
    {
      "cell_type": "markdown",
      "source": [
        "\n",
        "\n",
        "---\n",
        "\n"
      ],
      "metadata": {
        "id": "2yv9yh8fk95T"
      }
    },
    {
      "cell_type": "markdown",
      "source": [
        "## ***2. Exploring data***"
      ],
      "metadata": {
        "id": "x71ZqKXriCWQ"
      }
    },
    {
      "cell_type": "code",
      "source": [
        "hdf.head()"
      ],
      "metadata": {
        "id": "LWNFOSvLl09H"
      },
      "execution_count": null,
      "outputs": []
    },
    {
      "cell_type": "code",
      "source": [
        "hdf.tail()"
      ],
      "metadata": {
        "id": "DadRlnFQG6Tt"
      },
      "execution_count": null,
      "outputs": []
    },
    {
      "cell_type": "code",
      "source": [
        "hdf.shape"
      ],
      "metadata": {
        "id": "7lFvCVsTG8i8"
      },
      "execution_count": null,
      "outputs": []
    },
    {
      "cell_type": "code",
      "source": [
        "hdf.info()"
      ],
      "metadata": {
        "id": "ZT0PgcnzG-Ul"
      },
      "execution_count": null,
      "outputs": []
    },
    {
      "cell_type": "code",
      "source": [
        "hdf.describe()"
      ],
      "metadata": {
        "id": "iMBvy6d0HApu"
      },
      "execution_count": null,
      "outputs": []
    },
    {
      "cell_type": "code",
      "source": [
        "hdf.columns"
      ],
      "metadata": {
        "id": "nL5rXKqHHCkr"
      },
      "execution_count": null,
      "outputs": []
    },
    {
      "cell_type": "markdown",
      "source": [
        "\\"
      ],
      "metadata": {
        "id": "GOOKRPc5jGpJ"
      }
    },
    {
      "cell_type": "markdown",
      "source": [
        "**> Lets explore each column in detail**"
      ],
      "metadata": {
        "id": "cYjSxqIESIia"
      }
    },
    {
      "cell_type": "code",
      "source": [
        "# Create an empty list to store column information\n",
        "column_info = []\n",
        "\n",
        "# Iterate through each column in the DataFrame 'df'\n",
        "for name in hdf.columns:\n",
        "    # Calculate column information\n",
        "    dtype = hdf[name].dtypes\n",
        "    null_count = hdf[name].isnull().sum()\n",
        "    null_percentage = round(null_count / len(hdf) * 100, 2)\n",
        "    n_unique = hdf[name].nunique()\n",
        "    unique_values = hdf[name].unique()\n",
        "\n",
        "    # Append column information to the list\n",
        "    column_info.append([name, dtype, null_count, null_percentage, n_unique, unique_values])\n",
        "\n",
        "# Create a DataFrame with the column information\n",
        "df_columns = pd.DataFrame(column_info, columns=['Column', 'Dtype', 'Null', 'Null (%)', 'nUnique', 'Unique'])\n",
        "# Create an empty list to store column information\n",
        "column_info = []\n",
        "\n",
        "# Iterate through each column in the DataFrame 'df'\n",
        "for name in hdf.columns:\n",
        "    # Calculate column information\n",
        "    dtype = hdf[name].dtypes\n",
        "    null_count = hdf[name].isnull().sum()\n",
        "    null_percentage = round(null_count / len(hdf) * 100, 2)\n",
        "    n_unique = hdf[name].nunique()\n",
        "    unique_values = hdf[name].unique()\n",
        "\n",
        "    # Append column information to the list\n",
        "    column_info.append([name, dtype, null_count, null_percentage, n_unique, unique_values])\n",
        "\n",
        "# Create a DataFrame with the column information\n",
        "df_columns = pd.DataFrame(column_info, columns=['Column', 'Dtype', 'Null', 'Null (%)', 'nUnique', 'Unique'])\n",
        "df_columns"
      ],
      "metadata": {
        "id": "oCjUteq7PzAP"
      },
      "execution_count": null,
      "outputs": []
    },
    {
      "cell_type": "markdown",
      "source": [
        "\\"
      ],
      "metadata": {
        "id": "ukT0ONM8Pynp"
      }
    },
    {
      "cell_type": "markdown",
      "source": [
        "- - - - - - - - - -"
      ],
      "metadata": {
        "id": "_QALvlJIk1XD"
      }
    },
    {
      "cell_type": "markdown",
      "source": [
        "## ***3. Cleaning data***"
      ],
      "metadata": {
        "id": "AHvB8y3rJsVB"
      }
    },
    {
      "cell_type": "markdown",
      "source": [
        "**Steps include :**\n",
        "\n",
        "    0.Making Copy of original databasez\n",
        "\n",
        "    1.Remove duplicate rows\n",
        "\n",
        "    2.Handling missing values.\n",
        "\n",
        "    3.Convert columns to appropriate datatypes.\n",
        "\n",
        "    4.Adding important columns"
      ],
      "metadata": {
        "id": "hv9Ezi5oQ4vx"
      }
    },
    {
      "cell_type": "markdown",
      "source": [
        "##### 0.Making Copy of original database"
      ],
      "metadata": {
        "id": "0PUkP4Z5L9En"
      }
    },
    {
      "cell_type": "code",
      "source": [
        "# First copy the dataset, So our original dataset remains unchanged\n",
        "df = hdf.copy()\n",
        "df.shape"
      ],
      "metadata": {
        "id": "uffOuaanJsVP"
      },
      "execution_count": null,
      "outputs": []
    },
    {
      "cell_type": "markdown",
      "source": [
        "##### 1.Removing duplicate rows"
      ],
      "metadata": {
        "id": "wO_Vg4ezKoYu"
      }
    },
    {
      "cell_type": "code",
      "source": [
        "# To check shape of duplicate data\n",
        "df[df.duplicated()].shape"
      ],
      "metadata": {
        "id": "mfP6lDDXKoYv"
      },
      "execution_count": null,
      "outputs": []
    },
    {
      "cell_type": "code",
      "source": [
        "# To Drop duplicate value\n",
        "df.drop_duplicates(inplace = True)\n",
        "df.shape"
      ],
      "metadata": {
        "id": "_uDmTw4hRpCb"
      },
      "execution_count": null,
      "outputs": []
    },
    {
      "cell_type": "markdown",
      "source": [
        "##### 2.Handling missing values"
      ],
      "metadata": {
        "id": "MvW-IAfqLM2q"
      }
    },
    {
      "cell_type": "code",
      "source": [
        "# To Find Column With Null Values\n",
        "df.isnull().sum().sort_values(ascending=False)"
      ],
      "metadata": {
        "id": "tFdk5H5ULM2q"
      },
      "execution_count": null,
      "outputs": []
    },
    {
      "cell_type": "markdown",
      "source": [
        "We have 4 columns having missing values."
      ],
      "metadata": {
        "id": "5uylakAJV7u4"
      }
    },
    {
      "cell_type": "code",
      "source": [
        "# Columns 'company' and 'agent' have id number, so we will replace missing values with 0.\n",
        "df[['agent','company']] = df[['agent','company']].fillna(0)"
      ],
      "metadata": {
        "id": "WBIhOxV0UD4q"
      },
      "execution_count": null,
      "outputs": []
    },
    {
      "cell_type": "code",
      "source": [
        "# Column 'country' has categorial variable, so we will replace missing values with its mode.\n",
        "df['country'].fillna(df.country.mode().to_string(), inplace=True)"
      ],
      "metadata": {
        "id": "IfWxUDNSXinX"
      },
      "execution_count": null,
      "outputs": []
    },
    {
      "cell_type": "code",
      "source": [
        "# Column 'children' has numerical variable, so we will replace missing values with its mean.\n",
        "df['children'].fillna(round(df.children.mean()), inplace=True)"
      ],
      "metadata": {
        "id": "wz-hlO8kXlbv"
      },
      "execution_count": null,
      "outputs": []
    },
    {
      "cell_type": "code",
      "source": [
        "df.isnull().sum().sort_values(ascending=False)"
      ],
      "metadata": {
        "id": "0TLb29CQXlQO"
      },
      "execution_count": null,
      "outputs": []
    },
    {
      "cell_type": "markdown",
      "source": [
        "No Null values, means we succesfully handled missing values."
      ],
      "metadata": {
        "id": "QaXJcWFEbdn7"
      }
    },
    {
      "cell_type": "markdown",
      "source": [
        "##### 3.Converting columns to appropriate datatype"
      ],
      "metadata": {
        "id": "A8k17YmsLMdF"
      }
    },
    {
      "cell_type": "code",
      "source": [
        "# To convert datatype of columns 'children', 'company', 'agent' from float to integer\n",
        "df[['children', 'company', 'agent']] = df[['children', 'company', 'agent']].astype('int64')"
      ],
      "metadata": {
        "id": "etQYThjwLMdU"
      },
      "execution_count": null,
      "outputs": []
    },
    {
      "cell_type": "markdown",
      "source": [
        "##### 4.Dealing with Outliers"
      ],
      "metadata": {
        "id": "zXJtTk0lClqg"
      }
    },
    {
      "cell_type": "code",
      "source": [],
      "metadata": {
        "id": "aUOS-6iJClrA"
      },
      "execution_count": null,
      "outputs": []
    },
    {
      "cell_type": "markdown",
      "source": [
        "##### 5.Adding important columns."
      ],
      "metadata": {
        "id": "Nqku4AYwLMst"
      }
    },
    {
      "cell_type": "code",
      "source": [
        "# Adding total staying days in hotels\n",
        "df['total_stay'] = df['stays_in_weekend_nights']+df['stays_in_week_nights']\n",
        "\n",
        "# Adding total people num as column, i.e. total people num = num of adults + children + babies\n",
        "df['total_people'] = df['adults']+df['children']+df['babies']"
      ],
      "metadata": {
        "id": "euUfLkKNLMsv"
      },
      "execution_count": null,
      "outputs": []
    },
    {
      "cell_type": "markdown",
      "source": [
        "-------------------------------"
      ],
      "metadata": {
        "id": "vcZx1MtNfDNv"
      }
    },
    {
      "cell_type": "markdown",
      "source": [
        "## ***2. Exploratory Data Analysis***"
      ],
      "metadata": {
        "id": "fdmAHqBiWAym"
      }
    },
    {
      "cell_type": "markdown",
      "source": [
        "### Q1. Correlation between columns?"
      ],
      "metadata": {
        "id": "JLFbcNZOKFT_"
      }
    },
    {
      "cell_type": "code",
      "source": [
        "df1=df.corr()\n",
        "plt.subplots(figsize=(15, 10))\n",
        "sns.heatmap(df1, annot = True, fmt='.2f', annot_kws={'size':8}, vmax=.8, vmin=-.8, square=True);"
      ],
      "metadata": {
        "id": "Berdyxu2KFUV"
      },
      "execution_count": null,
      "outputs": []
    },
    {
      "cell_type": "markdown",
      "source": [
        "\\\n",
        "\n",
        "---\n",
        "\n"
      ],
      "metadata": {
        "id": "4Z--YqSLp79v"
      }
    },
    {
      "cell_type": "markdown",
      "source": [
        "### Q2. Hotel Type - Most Preffered?"
      ],
      "metadata": {
        "id": "JzMOaUmaXOO_"
      }
    },
    {
      "cell_type": "code",
      "source": [
        "# Step 1: Count the frequency of each unique value in the 'hotel'\n",
        "value_counts = df['hotel'].value_counts()\n",
        "\n",
        "# Step 2: Plot the pie chart\n",
        "plt.figure(figsize=(5, 5))  # Set the size of the pie chart\n",
        "plt.pie(value_counts, labels=value_counts.index, autopct='%1.1f%%', startangle=90)\n",
        "\n",
        "# Add a title\n",
        "plt.title('Hotel Type - Most Preffered?',fontsize=18)\n",
        "\n",
        "# Show the pie chart\n",
        "plt.show()\n"
      ],
      "metadata": {
        "id": "PJRqUNvHXOPK"
      },
      "execution_count": null,
      "outputs": []
    },
    {
      "cell_type": "markdown",
      "source": [
        "Insight 2 --> Around **61% people** booked **City Hotel** and **39% people** booked **Resort Hotel**. on the basis of percentage we can assume that ***City hotel is more preferable than Resort Hotel.***"
      ],
      "metadata": {
        "id": "W4BLlnJ5egJT"
      }
    },
    {
      "cell_type": "markdown",
      "source": [
        "\\\n",
        "\n",
        "---\n",
        "\n"
      ],
      "metadata": {
        "id": "mMwCZQLwp650"
      }
    },
    {
      "cell_type": "markdown",
      "source": [
        "### Q3.  Busiest years (most and least) for both hotels"
      ],
      "metadata": {
        "id": "VrK6cWRXf70K"
      }
    },
    {
      "cell_type": "code",
      "source": [
        "data1 = df[df['is_canceled'] == 0]\n",
        "\n",
        "fig = plt.figure(figsize=(7,5))\n",
        "sns.countplot(data=data1, x = 'arrival_date_year',hue=\"hotel\")\n",
        "plt.xlabel('Year')\n",
        "plt.title('Busiest years (most and least) for both hotels',fontsize=18)"
      ],
      "metadata": {
        "id": "zobh0E4uf70V"
      },
      "execution_count": null,
      "outputs": []
    },
    {
      "cell_type": "markdown",
      "source": [
        "Insight 3 --> **2016** was the **most busiest year** and **2015** was the **least busiest year**"
      ],
      "metadata": {
        "id": "uCtjHhENf70V"
      }
    },
    {
      "cell_type": "markdown",
      "source": [
        "\\\n",
        "\n",
        "---\n",
        "\n"
      ],
      "metadata": {
        "id": "Z-z3P20Hp6H5"
      }
    },
    {
      "cell_type": "markdown",
      "source": [
        "### Q4. Which hotel has a higher booking cancellation?"
      ],
      "metadata": {
        "id": "i6O0OsUhtqSf"
      }
    },
    {
      "cell_type": "code",
      "source": [
        "# Count plot of hotels\n",
        "h_cancel=df[df['is_canceled']==1]\n",
        "sns.countplot(data=h_cancel, x='hotel')\n",
        "plt.xlabel('Hotel-->',fontsize=15)\n",
        "plt.ylabel('Count-->',fontsize=15)\n",
        "plt.title('Count plot of hotels cancellations',fontsize=20)"
      ],
      "metadata": {
        "id": "W1kPYHy9tqTD"
      },
      "execution_count": null,
      "outputs": []
    },
    {
      "cell_type": "markdown",
      "source": [
        "Insight 4 --> **City Hotel booking cancellation is double than Resort hotel.**"
      ],
      "metadata": {
        "id": "xTx0cINutqTD"
      }
    },
    {
      "cell_type": "markdown",
      "source": [
        "\\\n",
        "\n",
        "---\n",
        "\n"
      ],
      "metadata": {
        "id": "W2dq6O_ip5L1"
      }
    },
    {
      "cell_type": "markdown",
      "source": [
        "### Q5. How long do people prefer to stay in both hotels?"
      ],
      "metadata": {
        "id": "2vGl1cnXtrwC"
      }
    },
    {
      "cell_type": "code",
      "source": [
        "data=df[df['total_stay']<16]\n",
        "plt.figure(figsize = (15,8))\n",
        "sns.countplot(x=data['total_stay'],hue=data['hotel'],palette='rocket')\n",
        "plt.xlabel('no of days-->',fontsize=18)\n",
        "plt.ylabel('count-->',fontsize=18)\n",
        "plt.title('Count plot of no of days to stay',fontsize=20)"
      ],
      "metadata": {
        "id": "6zEAi7Entrwh"
      },
      "execution_count": null,
      "outputs": []
    },
    {
      "cell_type": "markdown",
      "source": [
        "Insight 5 --> **People prefer to stay** in **City Hotels for shorter duration** like for 4-5 days and they **prefer Resort Hotel for longer durations** like for 7-14 days."
      ],
      "metadata": {
        "id": "av_O8nX1trwi"
      }
    },
    {
      "cell_type": "markdown",
      "source": [
        "\\\n",
        "\n",
        "---\n",
        "\n"
      ],
      "metadata": {
        "id": "s_a2Y3gwp3iZ"
      }
    },
    {
      "cell_type": "markdown",
      "source": [
        "### Q6. Which hotel require more car parking spaces?"
      ],
      "metadata": {
        "id": "SP6JDBdLtrzz"
      }
    },
    {
      "cell_type": "code",
      "source": [
        "# bar graph on required no of car parking hotel wise trend\n",
        "plt.figure(figsize=(7,5))\n",
        "sns.barplot(x=df['hotel'],y=df['required_car_parking_spaces'])\n",
        "plt.xlabel('hotel-->')\n",
        "plt.ylabel('Count of required car parking spaces-->')\n",
        "plt.title('Required no of car parking spaces',fontsize=18)"
      ],
      "metadata": {
        "id": "2afNVkgwtrzz"
      },
      "execution_count": null,
      "outputs": []
    },
    {
      "cell_type": "markdown",
      "source": [
        "Insight 6 --> **Resort Hotels require 4X more** car parking space than City Hotel."
      ],
      "metadata": {
        "id": "LBephVCutrz0"
      }
    },
    {
      "cell_type": "markdown",
      "source": [
        "\\\n",
        "\n",
        "---\n",
        "\n"
      ],
      "metadata": {
        "id": "UGlJPG05p2oC"
      }
    },
    {
      "cell_type": "markdown",
      "source": [
        "### Q7. Are there Chances of special request on the basis of number of kids?"
      ],
      "metadata": {
        "id": "hxF29G7_tr2-"
      }
    },
    {
      "cell_type": "code",
      "source": [
        "df['kids'] = df['children']+df['babies']\n",
        "plt.figure(figsize=(10,5))\n",
        "sns.barplot(data= df, x=\"kids\", y=\"total_of_special_requests\")\n",
        "plt.xlabel('No of kids-->')\n",
        "plt.ylabel('Total no of special requests-->')\n",
        "plt.title(\"Special request on the basis of number of kids\",fontsize=18)"
      ],
      "metadata": {
        "id": "eUb3T-5ktr2_"
      },
      "execution_count": null,
      "outputs": []
    },
    {
      "cell_type": "markdown",
      "source": [
        "Insight 7 --> There are **more chances of special requests in case of 1 & 3 number of kid**."
      ],
      "metadata": {
        "id": "VS5IaeUftr2_"
      }
    },
    {
      "cell_type": "markdown",
      "source": [
        "\\\n",
        "\n",
        "---\n",
        "\n"
      ],
      "metadata": {
        "id": "g0nEUuZBp1pW"
      }
    },
    {
      "cell_type": "markdown",
      "source": [
        "### Q8. From which three countries do most guests come?"
      ],
      "metadata": {
        "id": "Um-d74aAtr6w"
      }
    },
    {
      "cell_type": "code",
      "source": [
        "# group by countries and taking sum of guests\n",
        "country_guest =df[['country','total_people']]\n",
        "country_guest=country_guest.groupby(by='country').agg({'total_people':'sum'}).reset_index()\n",
        "\n",
        "# Number of guests sorted in descending order country wise\n",
        "country_guest1=country_guest.sort_values(by='total_people',ascending=False).head(10)\n",
        "\n",
        "\n",
        "plt.figure(figsize=(10,8))\n",
        "sns.barplot(x=country_guest1['country'],y=country_guest1['total_people'],palette='rocket')\n",
        "plt.xlabel('Country-->')\n",
        "plt.ylabel('Total no of guests-->')\n",
        "plt.title('Relation between country and Total no of guests',fontsize=20)"
      ],
      "metadata": {
        "id": "smFFI0mmtr6x"
      },
      "execution_count": null,
      "outputs": []
    },
    {
      "cell_type": "markdown",
      "source": [
        "Insight 8 --> Top 3 countries from which most guests come are **\"PRT\" (Portugal), \"GBR\" (United Kingdom), and \"FRA\" (France)**"
      ],
      "metadata": {
        "id": "9WVZo0MWtr6x"
      }
    },
    {
      "cell_type": "markdown",
      "source": [
        "\\\n",
        "\n",
        "---\n",
        "\n"
      ],
      "metadata": {
        "id": "jbj2DQ0Tp0YS"
      }
    },
    {
      "cell_type": "markdown",
      "source": [
        "### Q9. Analyzing customer retention on customer type."
      ],
      "metadata": {
        "id": "3HlX0EQntr9e"
      }
    },
    {
      "cell_type": "code",
      "source": [
        "repeat_guest= df[df['is_repeated_guest']==1]\n",
        "repeat_guest=repeat_guest.groupby(['hotel','customer_type']).agg({'is_repeated_guest':'sum'}).reset_index()\n",
        "\n",
        "plt.figure(figsize=(7,7))\n",
        "sns.barplot(x=repeat_guest['hotel'],y=repeat_guest['is_repeated_guest'],hue=repeat_guest['customer_type'])\n",
        "plt.xlabel('customer_type-->')\n",
        "plt.ylabel('Repeated customers-->')\n",
        "plt.title('Customer Retention',fontsize=18)\n"
      ],
      "metadata": {
        "id": "Ea-qEDx4tr9f"
      },
      "execution_count": null,
      "outputs": []
    },
    {
      "cell_type": "markdown",
      "source": [
        "Insight 9 --> **Transient Customer** is more loyal in both hotels."
      ],
      "metadata": {
        "id": "-I7VzIeVtr9f"
      }
    },
    {
      "cell_type": "markdown",
      "source": [
        "\\\n",
        "\n",
        "---\n",
        "\n"
      ],
      "metadata": {
        "id": "3ex-Fh7gpy53"
      }
    },
    {
      "cell_type": "markdown",
      "source": [
        "### Q10. Which type of customers book hotels the most?"
      ],
      "metadata": {
        "id": "FyqUR-sTtsDI"
      }
    },
    {
      "cell_type": "code",
      "source": [
        "# histogram plot of customer's count\n",
        "plt.figure(figsize=(10,7))\n",
        "sns.countplot(data=df, x='customer_type')\n",
        "plt.title('Customer Type and count graph',fontsize=15)\n",
        "plt.xlabel('Customer type-->',fontsize=15)\n",
        "plt.ylabel('Count-->',fontsize=15)"
      ],
      "metadata": {
        "id": "aUkYfrDOtsDJ"
      },
      "execution_count": null,
      "outputs": []
    },
    {
      "cell_type": "markdown",
      "source": [
        "Insight 10 --> **Transient customers** make most bookings."
      ],
      "metadata": {
        "id": "tWb_K3xktsDJ"
      }
    },
    {
      "cell_type": "markdown",
      "source": [
        "\\\n",
        "\n",
        "---\n",
        "\n"
      ],
      "metadata": {
        "id": "DvyMFLpapx6a"
      }
    },
    {
      "cell_type": "markdown",
      "source": [
        "### Q11. Which customer type has the highest cancellation of bookings?"
      ],
      "metadata": {
        "id": "NfMH_ltxtscg"
      }
    },
    {
      "cell_type": "code",
      "source": [
        "# Booking cancelled by group- customer type\n",
        "cust_cancel=df[df['is_canceled']==1]\n",
        "plt.figure(figsize=(10,7))\n",
        "sns.countplot(data= cust_cancel, x= 'customer_type')\n",
        "plt.xlabel('Customer Type-->')\n",
        "plt.ylabel('Count-->')\n",
        "plt.title('Booking cancelled by customer type',fontsize=18)"
      ],
      "metadata": {
        "id": "sW1p3agKtsch"
      },
      "execution_count": null,
      "outputs": []
    },
    {
      "cell_type": "markdown",
      "source": [
        "Insight 11 --> **Transient Customer Type** do most booking cancellations."
      ],
      "metadata": {
        "id": "Hkx5IkPwtsci"
      }
    },
    {
      "cell_type": "markdown",
      "source": [
        "\\\n",
        "\n",
        "---\n",
        "\n"
      ],
      "metadata": {
        "id": "9EsnzEfLpweU"
      }
    },
    {
      "cell_type": "markdown",
      "source": [
        "### Q12. Which distribution channel is mostly used?"
      ],
      "metadata": {
        "id": "_VeDYIIftspv"
      }
    },
    {
      "cell_type": "code",
      "source": [
        "value_counts1 = df['distribution_channel'].value_counts()\n",
        "plt.figure(figsize=(10,8))\n",
        "plt.pie(value_counts1, labels=value_counts1.index, autopct='%1.1f%%', startangle=90,textprops={'fontsize':17})\n",
        "plt.title('Distribution channel - Bookings made',fontsize=20)\n",
        "plt.show()"
      ],
      "metadata": {
        "id": "40c9-V-Jtspw"
      },
      "execution_count": null,
      "outputs": []
    },
    {
      "cell_type": "markdown",
      "source": [
        "Insight 12 --> Most Booking done by Ditribution channel - **TA/TO(Travel agent/Travel operators)-79%**"
      ],
      "metadata": {
        "id": "LneebWXLtspw"
      }
    },
    {
      "cell_type": "markdown",
      "source": [
        "\\\n",
        "\n",
        "---\n",
        "\n"
      ],
      "metadata": {
        "id": "-vzkHJl3puU3"
      }
    },
    {
      "cell_type": "markdown",
      "source": [
        "### Q13. Relationship between ADR and the total number of stays?"
      ],
      "metadata": {
        "id": "_oKltAlctsuZ"
      }
    },
    {
      "cell_type": "code",
      "source": [
        "plt.figure(figsize = (12,7))\n",
        "sns.scatterplot(y = 'adr', x = 'total_stay', data = df)\n",
        "plt.xlabel('Total stay-->',fontsize=18)\n",
        "plt.ylabel('Average daily rate-->',fontsize=18)\n",
        "plt.title('Relationship between ADR and the total number of stays',fontsize=20)\n",
        "plt.ylim(0, 500)\n",
        "plt.show()\n"
      ],
      "metadata": {
        "id": "75m7T3KJtsuZ"
      },
      "execution_count": null,
      "outputs": []
    },
    {
      "cell_type": "markdown",
      "source": [
        "Insight 13 --> There is a **Negative correlation** between the Total stay and the ADR. i.e. As Number of total stay increases the adr decreases."
      ],
      "metadata": {
        "id": "FV2iQ7Wwtsua"
      }
    },
    {
      "cell_type": "markdown",
      "source": [
        "\\\n",
        "\n",
        "---\n",
        "\n"
      ],
      "metadata": {
        "id": "O8wvs_Edps0Z"
      }
    },
    {
      "cell_type": "markdown",
      "source": [
        "### Q14. Month-wise bookings for hotel?"
      ],
      "metadata": {
        "id": "ZHImhKnAtswE"
      }
    },
    {
      "cell_type": "code",
      "source": [
        "months = ['January', 'February', 'March', 'April', 'May', 'June', 'July', 'August', 'September', 'October', 'November', 'December']\n",
        "df['arrival_date_month'] = pd.Categorical(df['arrival_date_month'], categories = months, ordered=True)\n",
        "not_cancel= df[df['is_canceled'] == 0]\n",
        "\n",
        "plt.figure(figsize = (15,8))\n",
        "sns.countplot(x=not_cancel['arrival_date_month'],hue=not_cancel['hotel'],palette='magma')\n",
        "plt.xlabel('Arrival date month-->',fontsize=18)\n",
        "plt.ylabel('No of bookings-->',fontsize=18)\n",
        "plt.title(\"Month-wise bookings\",fontsize=20)"
      ],
      "metadata": {
        "id": "yVW-KAYjtswF"
      },
      "execution_count": null,
      "outputs": []
    },
    {
      "cell_type": "markdown",
      "source": [
        "Insight 14 -->  Booking are **highest in july and august** months"
      ],
      "metadata": {
        "id": "zkE9sqiOtswF"
      }
    },
    {
      "cell_type": "markdown",
      "source": [
        "\\\n",
        "\n",
        "---\n",
        "\n"
      ],
      "metadata": {
        "id": "O83YFZ2QpnSa"
      }
    },
    {
      "cell_type": "markdown",
      "source": [
        "### Q15. Month-wise cancellations for hotel?"
      ],
      "metadata": {
        "id": "qq6M5SIfts02"
      }
    },
    {
      "cell_type": "code",
      "source": [
        "months = ['January', 'February', 'March', 'April', 'May', 'June', 'July', 'August', 'September', 'October', 'November', 'December']\n",
        "df['arrival_date_month'] = pd.Categorical(df['arrival_date_month'], categories = months, ordered=True)\n",
        "cancel= df[df['is_canceled'] == 1]\n",
        "\n",
        "plt.figure(figsize = (15,8))\n",
        "sns.countplot(x=cancel['arrival_date_month'],hue=cancel['hotel'],palette='viridis')\n",
        "plt.xlabel('Arrival date month-->',fontsize=18)\n",
        "plt.ylabel('No of cancellations-->',fontsize=18)\n",
        "plt.title(\"Month-wise Cancellations\",fontsize=20)"
      ],
      "metadata": {
        "id": "aFFss9iIts02"
      },
      "execution_count": null,
      "outputs": []
    },
    {
      "cell_type": "markdown",
      "source": [
        "Insight 15 -->  For **City hotels** cancellations are **highest in april, may, july and august** month. For **Resort hotels** cancellations are **highest in july and august** month."
      ],
      "metadata": {
        "id": "12jtG70sts02"
      }
    },
    {
      "cell_type": "markdown",
      "source": [
        "\\"
      ],
      "metadata": {
        "id": "9wH69xDRpq_K"
      }
    },
    {
      "cell_type": "markdown",
      "source": [
        "--------------------------------------------------"
      ],
      "metadata": {
        "id": "5XJXmIlnOb0I"
      }
    },
    {
      "cell_type": "markdown",
      "source": [
        "## ***3. Conclusion***"
      ],
      "metadata": {
        "id": "DjS9KWNwLbG3"
      }
    },
    {
      "cell_type": "markdown",
      "source": [
        "*   Around **61% people** booked **City Hotel** and **39% people** booked **Resort Hotel**. on the basis of percentage we can assume that ***City hotel is more preferable than Resort Hotel.***\n",
        "\n",
        "*   **2016** was the **most busiest year** and **2015** was the **least busiest year**\n",
        "\n",
        "*   **City Hotel booking cancellation is double than Resort hotel.**\n",
        "\n",
        "*   **People prefer to stay** in **City Hotels for shorter duration** like for 4-5 days and they **prefer Resort Hotel for longer durations** like for 7-14 days.\n",
        "\n",
        "*   **Resort Hotels require 4X more** car parking space than City Hotel.\n",
        "\n",
        "*   There are **more chances of special requests in case of 1 & 3 number of kid**.\n",
        "\n",
        "*   Top 3 countries from which most guests come are **\"PRT\" (Portugal), \"GBR\" (United Kingdom), and \"FRA\" (France)**\n",
        "\n",
        "*   **Transient Customer** is more loyal in both hotels.\n",
        "\n",
        "*   **Transient customers** make most bookings.\n",
        "\n",
        "*   **Transient Customer Type** do most booking cancellations.\n",
        "\n",
        "*   Most Booking done by Ditribution channel - **TA/TO(Travel agent/Travel operators)-79%**\n",
        "\n",
        "*   There is a **Negative correlation** between the Total stay and the ADR. i.e. As Number of total stay increases the adr decreases.\n",
        "\n",
        "*   Booking are **highest in july and august** months\n",
        "\n",
        "*   For **City hotels** cancellations are **highest in april, may, july and august** month. For **Resort hotels** cancellations are **highest in july and august** month.\n",
        "\n",
        "\n",
        "\n",
        "\n",
        "\n"
      ],
      "metadata": {
        "id": "YQFQFxK7LiBb"
      }
    },
    {
      "cell_type": "markdown",
      "source": [
        "\\\n",
        "\n",
        "---\n",
        "\n"
      ],
      "metadata": {
        "id": "kaVu-9Dyl-6g"
      }
    },
    {
      "cell_type": "markdown",
      "source": [
        "# ***Thank You !!!***"
      ],
      "metadata": {
        "id": "ug9yXdmbmEnq"
      }
    },
    {
      "cell_type": "markdown",
      "source": [
        "\n",
        "\n",
        "---\n",
        "\n"
      ],
      "metadata": {
        "id": "nVdFJ_4TmAeJ"
      }
    },
    {
      "cell_type": "markdown",
      "source": [
        "### \\"
      ],
      "metadata": {
        "id": "1et1HGYSmac_"
      }
    },
    {
      "cell_type": "markdown",
      "source": [
        "### Q."
      ],
      "metadata": {
        "id": "9WbYI2f6WtYq"
      }
    },
    {
      "cell_type": "markdown",
      "source": [
        "Insight ."
      ],
      "metadata": {
        "id": "1kKidonmWtZC"
      }
    },
    {
      "cell_type": "markdown",
      "source": [
        "### Dataset First View"
      ],
      "metadata": {
        "id": "fBDLteV4GXym"
      }
    },
    {
      "cell_type": "code",
      "source": [
        "# Dataset First Look"
      ],
      "metadata": {
        "id": "zoCP-wlAGXzY"
      },
      "execution_count": null,
      "outputs": []
    },
    {
      "cell_type": "markdown",
      "source": [
        "### Dataset Rows & Columns count"
      ],
      "metadata": {
        "id": "7hBIi_osiCS2"
      }
    },
    {
      "cell_type": "code",
      "source": [
        "# Dataset Rows & Columns count"
      ],
      "metadata": {
        "id": "Kllu7SJgmLij"
      },
      "execution_count": null,
      "outputs": []
    },
    {
      "cell_type": "markdown",
      "source": [
        "### Dataset Information"
      ],
      "metadata": {
        "id": "JlHwYmJAmNHm"
      }
    },
    {
      "cell_type": "code",
      "source": [
        "# Dataset Info"
      ],
      "metadata": {
        "id": "e9hRXRi6meOf"
      },
      "execution_count": null,
      "outputs": []
    },
    {
      "cell_type": "markdown",
      "source": [
        "#### Duplicate Values"
      ],
      "metadata": {
        "id": "35m5QtbWiB9F"
      }
    },
    {
      "cell_type": "code",
      "source": [
        "# Dataset Duplicate Value Count"
      ],
      "metadata": {
        "id": "1sLdpKYkmox0"
      },
      "execution_count": null,
      "outputs": []
    },
    {
      "cell_type": "markdown",
      "source": [
        "#### Missing Values/Null Values"
      ],
      "metadata": {
        "id": "PoPl-ycgm1ru"
      }
    },
    {
      "cell_type": "code",
      "source": [
        "# Missing Values/Null Values Count"
      ],
      "metadata": {
        "id": "GgHWkxvamxVg"
      },
      "execution_count": null,
      "outputs": []
    },
    {
      "cell_type": "code",
      "source": [
        "# Visualizing the missing values"
      ],
      "metadata": {
        "id": "3q5wnI3om9sJ"
      },
      "execution_count": null,
      "outputs": []
    },
    {
      "cell_type": "markdown",
      "source": [
        "### What did you know about your dataset?"
      ],
      "metadata": {
        "id": "H0kj-8xxnORC"
      }
    },
    {
      "cell_type": "markdown",
      "source": [
        "Answer Here"
      ],
      "metadata": {
        "id": "gfoNAAC-nUe_"
      }
    },
    {
      "cell_type": "markdown",
      "source": [
        "## ***2. Understanding Your Variables***"
      ],
      "metadata": {
        "id": "nA9Y7ga8ng1Z"
      }
    },
    {
      "cell_type": "code",
      "source": [
        "# Dataset Columns"
      ],
      "metadata": {
        "id": "j7xfkqrt5Ag5"
      },
      "execution_count": null,
      "outputs": []
    },
    {
      "cell_type": "code",
      "source": [
        "# Dataset Describe"
      ],
      "metadata": {
        "id": "DnOaZdaE5Q5t"
      },
      "execution_count": null,
      "outputs": []
    },
    {
      "cell_type": "markdown",
      "source": [
        "### Variables Description"
      ],
      "metadata": {
        "id": "PBTbrJXOngz2"
      }
    },
    {
      "cell_type": "markdown",
      "source": [
        "Answer Here"
      ],
      "metadata": {
        "id": "aJV4KIxSnxay"
      }
    },
    {
      "cell_type": "markdown",
      "source": [
        "### Check Unique Values for each variable."
      ],
      "metadata": {
        "id": "u3PMJOP6ngxN"
      }
    },
    {
      "cell_type": "code",
      "source": [
        "# Check Unique Values for each variable."
      ],
      "metadata": {
        "id": "zms12Yq5n-jE"
      },
      "execution_count": null,
      "outputs": []
    },
    {
      "cell_type": "markdown",
      "source": [
        "## 3. ***Data Wrangling***"
      ],
      "metadata": {
        "id": "dauF4eBmngu3"
      }
    },
    {
      "cell_type": "markdown",
      "source": [
        "### Data Wrangling Code"
      ],
      "metadata": {
        "id": "bKJF3rekwFvQ"
      }
    },
    {
      "cell_type": "code",
      "source": [
        "# Write your code to make your dataset analysis ready."
      ],
      "metadata": {
        "id": "wk-9a2fpoLcV"
      },
      "execution_count": null,
      "outputs": []
    },
    {
      "cell_type": "markdown",
      "source": [
        "### What all manipulations have you done and insights you found?"
      ],
      "metadata": {
        "id": "MSa1f5Uengrz"
      }
    },
    {
      "cell_type": "markdown",
      "source": [
        "Answer Here."
      ],
      "metadata": {
        "id": "LbyXE7I1olp8"
      }
    },
    {
      "cell_type": "markdown",
      "source": [
        "## ***4. Data Vizualization, Storytelling & Experimenting with charts : Understand the relationships between variables***"
      ],
      "metadata": {
        "id": "GF8Ens_Soomf"
      }
    },
    {
      "cell_type": "markdown",
      "source": [
        "#### Chart - 1"
      ],
      "metadata": {
        "id": "0wOQAZs5pc--"
      }
    },
    {
      "cell_type": "code",
      "source": [
        "# Chart - 1 visualization code"
      ],
      "metadata": {
        "id": "7v_ESjsspbW7"
      },
      "execution_count": null,
      "outputs": []
    },
    {
      "cell_type": "markdown",
      "source": [
        "##### 1. Why did you pick the specific chart?"
      ],
      "metadata": {
        "id": "K5QZ13OEpz2H"
      }
    },
    {
      "cell_type": "markdown",
      "source": [
        "Answer Here."
      ],
      "metadata": {
        "id": "XESiWehPqBRc"
      }
    },
    {
      "cell_type": "markdown",
      "source": [
        "##### 2. What is/are the insight(s) found from the chart?"
      ],
      "metadata": {
        "id": "lQ7QKXXCp7Bj"
      }
    },
    {
      "cell_type": "markdown",
      "source": [
        "Answer Here"
      ],
      "metadata": {
        "id": "C_j1G7yiqdRP"
      }
    },
    {
      "cell_type": "markdown",
      "source": [
        "##### 3. Will the gained insights help creating a positive business impact?\n",
        "Are there any insights that lead to negative growth? Justify with specific reason."
      ],
      "metadata": {
        "id": "448CDAPjqfQr"
      }
    },
    {
      "cell_type": "markdown",
      "source": [
        "Answer Here"
      ],
      "metadata": {
        "id": "3cspy4FjqxJW"
      }
    },
    {
      "cell_type": "markdown",
      "source": [
        "#### Chart - 2"
      ],
      "metadata": {
        "id": "KSlN3yHqYklG"
      }
    },
    {
      "cell_type": "code",
      "source": [
        "# Chart - 2 visualization code"
      ],
      "metadata": {
        "id": "R4YgtaqtYklH"
      },
      "execution_count": null,
      "outputs": []
    },
    {
      "cell_type": "markdown",
      "source": [
        "##### 1. Why did you pick the specific chart?"
      ],
      "metadata": {
        "id": "t6dVpIINYklI"
      }
    },
    {
      "cell_type": "markdown",
      "source": [
        "Answer Here."
      ],
      "metadata": {
        "id": "5aaW0BYyYklI"
      }
    },
    {
      "cell_type": "markdown",
      "source": [
        "##### 2. What is/are the insight(s) found from the chart?"
      ],
      "metadata": {
        "id": "ijmpgYnKYklI"
      }
    },
    {
      "cell_type": "markdown",
      "source": [
        "Answer Here"
      ],
      "metadata": {
        "id": "PSx9atu2YklI"
      }
    },
    {
      "cell_type": "markdown",
      "source": [
        "##### 3. Will the gained insights help creating a positive business impact?\n",
        "Are there any insights that lead to negative growth? Justify with specific reason."
      ],
      "metadata": {
        "id": "-JiQyfWJYklI"
      }
    },
    {
      "cell_type": "markdown",
      "source": [
        "Answer Here"
      ],
      "metadata": {
        "id": "BcBbebzrYklV"
      }
    },
    {
      "cell_type": "markdown",
      "source": [
        "#### Chart - 3"
      ],
      "metadata": {
        "id": "EM7whBJCYoAo"
      }
    },
    {
      "cell_type": "code",
      "source": [
        "# Chart - 3 visualization code"
      ],
      "metadata": {
        "id": "t6GMdE67YoAp"
      },
      "execution_count": null,
      "outputs": []
    },
    {
      "cell_type": "markdown",
      "source": [
        "##### 1. Why did you pick the specific chart?"
      ],
      "metadata": {
        "id": "fge-S5ZAYoAp"
      }
    },
    {
      "cell_type": "markdown",
      "source": [
        "Answer Here."
      ],
      "metadata": {
        "id": "5dBItgRVYoAp"
      }
    },
    {
      "cell_type": "markdown",
      "source": [
        "##### 2. What is/are the insight(s) found from the chart?"
      ],
      "metadata": {
        "id": "85gYPyotYoAp"
      }
    },
    {
      "cell_type": "markdown",
      "source": [
        "Answer Here"
      ],
      "metadata": {
        "id": "4jstXR6OYoAp"
      }
    },
    {
      "cell_type": "markdown",
      "source": [
        "##### 3. Will the gained insights help creating a positive business impact?\n",
        "Are there any insights that lead to negative growth? Justify with specific reason."
      ],
      "metadata": {
        "id": "RoGjAbkUYoAp"
      }
    },
    {
      "cell_type": "markdown",
      "source": [
        "Answer Here"
      ],
      "metadata": {
        "id": "zfJ8IqMcYoAp"
      }
    },
    {
      "cell_type": "markdown",
      "source": [
        "#### Chart - 4"
      ],
      "metadata": {
        "id": "4Of9eVA-YrdM"
      }
    },
    {
      "cell_type": "code",
      "source": [
        "# Chart - 4 visualization code"
      ],
      "metadata": {
        "id": "irlUoxc8YrdO"
      },
      "execution_count": null,
      "outputs": []
    },
    {
      "cell_type": "markdown",
      "source": [
        "##### 1. Why did you pick the specific chart?"
      ],
      "metadata": {
        "id": "iky9q4vBYrdO"
      }
    },
    {
      "cell_type": "markdown",
      "source": [
        "Answer Here."
      ],
      "metadata": {
        "id": "aJRCwT6DYrdO"
      }
    },
    {
      "cell_type": "markdown",
      "source": [
        "##### 2. What is/are the insight(s) found from the chart?"
      ],
      "metadata": {
        "id": "F6T5p64dYrdO"
      }
    },
    {
      "cell_type": "markdown",
      "source": [
        "Answer Here"
      ],
      "metadata": {
        "id": "Xx8WAJvtYrdO"
      }
    },
    {
      "cell_type": "markdown",
      "source": [
        "##### 3. Will the gained insights help creating a positive business impact?\n",
        "Are there any insights that lead to negative growth? Justify with specific reason."
      ],
      "metadata": {
        "id": "y-Ehk30pYrdP"
      }
    },
    {
      "cell_type": "markdown",
      "source": [
        "Answer Here"
      ],
      "metadata": {
        "id": "jLNxxz7MYrdP"
      }
    },
    {
      "cell_type": "markdown",
      "source": [
        "#### Chart - 5"
      ],
      "metadata": {
        "id": "bamQiAODYuh1"
      }
    },
    {
      "cell_type": "code",
      "source": [
        "# Chart - 5 visualization code"
      ],
      "metadata": {
        "id": "TIJwrbroYuh3"
      },
      "execution_count": null,
      "outputs": []
    },
    {
      "cell_type": "markdown",
      "source": [
        "##### 1. Why did you pick the specific chart?"
      ],
      "metadata": {
        "id": "QHF8YVU7Yuh3"
      }
    },
    {
      "cell_type": "markdown",
      "source": [
        "Answer Here."
      ],
      "metadata": {
        "id": "dcxuIMRPYuh3"
      }
    },
    {
      "cell_type": "markdown",
      "source": [
        "##### 2. What is/are the insight(s) found from the chart?"
      ],
      "metadata": {
        "id": "GwzvFGzlYuh3"
      }
    },
    {
      "cell_type": "markdown",
      "source": [
        "Answer Here"
      ],
      "metadata": {
        "id": "uyqkiB8YYuh3"
      }
    },
    {
      "cell_type": "markdown",
      "source": [
        "##### 3. Will the gained insights help creating a positive business impact?\n",
        "Are there any insights that lead to negative growth? Justify with specific reason."
      ],
      "metadata": {
        "id": "qYpmQ266Yuh3"
      }
    },
    {
      "cell_type": "markdown",
      "source": [
        "Answer Here"
      ],
      "metadata": {
        "id": "_WtzZ_hCYuh4"
      }
    },
    {
      "cell_type": "markdown",
      "source": [
        "#### Chart - 6"
      ],
      "metadata": {
        "id": "OH-pJp9IphqM"
      }
    },
    {
      "cell_type": "code",
      "source": [
        "# Chart - 6 visualization code"
      ],
      "metadata": {
        "id": "kuRf4wtuphqN"
      },
      "execution_count": null,
      "outputs": []
    },
    {
      "cell_type": "markdown",
      "source": [
        "##### 1. Why did you pick the specific chart?"
      ],
      "metadata": {
        "id": "bbFf2-_FphqN"
      }
    },
    {
      "cell_type": "markdown",
      "source": [
        "Answer Here."
      ],
      "metadata": {
        "id": "loh7H2nzphqN"
      }
    },
    {
      "cell_type": "markdown",
      "source": [
        "##### 2. What is/are the insight(s) found from the chart?"
      ],
      "metadata": {
        "id": "_ouA3fa0phqN"
      }
    },
    {
      "cell_type": "markdown",
      "source": [
        "Answer Here"
      ],
      "metadata": {
        "id": "VECbqPI7phqN"
      }
    },
    {
      "cell_type": "markdown",
      "source": [
        "##### 3. Will the gained insights help creating a positive business impact?\n",
        "Are there any insights that lead to negative growth? Justify with specific reason."
      ],
      "metadata": {
        "id": "Seke61FWphqN"
      }
    },
    {
      "cell_type": "markdown",
      "source": [
        "Answer Here"
      ],
      "metadata": {
        "id": "DW4_bGpfphqN"
      }
    },
    {
      "cell_type": "markdown",
      "source": [
        "#### Chart - 7"
      ],
      "metadata": {
        "id": "PIIx-8_IphqN"
      }
    },
    {
      "cell_type": "code",
      "source": [
        "# Chart - 7 visualization code"
      ],
      "metadata": {
        "id": "lqAIGUfyphqO"
      },
      "execution_count": null,
      "outputs": []
    },
    {
      "cell_type": "markdown",
      "source": [
        "##### 1. Why did you pick the specific chart?"
      ],
      "metadata": {
        "id": "t27r6nlMphqO"
      }
    },
    {
      "cell_type": "markdown",
      "source": [
        "Answer Here."
      ],
      "metadata": {
        "id": "iv6ro40sphqO"
      }
    },
    {
      "cell_type": "markdown",
      "source": [
        "##### 2. What is/are the insight(s) found from the chart?"
      ],
      "metadata": {
        "id": "r2jJGEOYphqO"
      }
    },
    {
      "cell_type": "markdown",
      "source": [
        "Answer Here"
      ],
      "metadata": {
        "id": "Po6ZPi4hphqO"
      }
    },
    {
      "cell_type": "markdown",
      "source": [
        "##### 3. Will the gained insights help creating a positive business impact?\n",
        "Are there any insights that lead to negative growth? Justify with specific reason."
      ],
      "metadata": {
        "id": "b0JNsNcRphqO"
      }
    },
    {
      "cell_type": "markdown",
      "source": [
        "Answer Here"
      ],
      "metadata": {
        "id": "xvSq8iUTphqO"
      }
    },
    {
      "cell_type": "markdown",
      "source": [
        "#### Chart - 8"
      ],
      "metadata": {
        "id": "BZR9WyysphqO"
      }
    },
    {
      "cell_type": "code",
      "source": [
        "# Chart - 8 visualization code"
      ],
      "metadata": {
        "id": "TdPTWpAVphqO"
      },
      "execution_count": null,
      "outputs": []
    },
    {
      "cell_type": "markdown",
      "source": [
        "##### 1. Why did you pick the specific chart?"
      ],
      "metadata": {
        "id": "jj7wYXLtphqO"
      }
    },
    {
      "cell_type": "markdown",
      "source": [
        "Answer Here."
      ],
      "metadata": {
        "id": "Ob8u6rCTphqO"
      }
    },
    {
      "cell_type": "markdown",
      "source": [
        "##### 2. What is/are the insight(s) found from the chart?"
      ],
      "metadata": {
        "id": "eZrbJ2SmphqO"
      }
    },
    {
      "cell_type": "markdown",
      "source": [
        "Answer Here"
      ],
      "metadata": {
        "id": "mZtgC_hjphqO"
      }
    },
    {
      "cell_type": "markdown",
      "source": [
        "##### 3. Will the gained insights help creating a positive business impact?\n",
        "Are there any insights that lead to negative growth? Justify with specific reason."
      ],
      "metadata": {
        "id": "rFu4xreNphqO"
      }
    },
    {
      "cell_type": "markdown",
      "source": [
        "Answer Here"
      ],
      "metadata": {
        "id": "ey_0qi68phqO"
      }
    },
    {
      "cell_type": "markdown",
      "source": [
        "#### Chart - 9"
      ],
      "metadata": {
        "id": "YJ55k-q6phqO"
      }
    },
    {
      "cell_type": "code",
      "source": [
        "# Chart - 9 visualization code"
      ],
      "metadata": {
        "id": "B2aS4O1ophqO"
      },
      "execution_count": null,
      "outputs": []
    },
    {
      "cell_type": "markdown",
      "source": [
        "##### 1. Why did you pick the specific chart?"
      ],
      "metadata": {
        "id": "gCFgpxoyphqP"
      }
    },
    {
      "cell_type": "markdown",
      "source": [
        "Answer Here."
      ],
      "metadata": {
        "id": "TVxDimi2phqP"
      }
    },
    {
      "cell_type": "markdown",
      "source": [
        "##### 2. What is/are the insight(s) found from the chart?"
      ],
      "metadata": {
        "id": "OVtJsKN_phqQ"
      }
    },
    {
      "cell_type": "markdown",
      "source": [
        "Answer Here"
      ],
      "metadata": {
        "id": "ngGi97qjphqQ"
      }
    },
    {
      "cell_type": "markdown",
      "source": [
        "##### 3. Will the gained insights help creating a positive business impact?\n",
        "Are there any insights that lead to negative growth? Justify with specific reason."
      ],
      "metadata": {
        "id": "lssrdh5qphqQ"
      }
    },
    {
      "cell_type": "markdown",
      "source": [
        "Answer Here"
      ],
      "metadata": {
        "id": "tBpY5ekJphqQ"
      }
    },
    {
      "cell_type": "markdown",
      "source": [
        "#### Chart - 10"
      ],
      "metadata": {
        "id": "U2RJ9gkRphqQ"
      }
    },
    {
      "cell_type": "code",
      "source": [
        "# Chart - 10 visualization code"
      ],
      "metadata": {
        "id": "GM7a4YP4phqQ"
      },
      "execution_count": null,
      "outputs": []
    },
    {
      "cell_type": "markdown",
      "source": [
        "##### 1. Why did you pick the specific chart?"
      ],
      "metadata": {
        "id": "1M8mcRywphqQ"
      }
    },
    {
      "cell_type": "markdown",
      "source": [
        "Answer Here."
      ],
      "metadata": {
        "id": "8agQvks0phqQ"
      }
    },
    {
      "cell_type": "markdown",
      "source": [
        "##### 2. What is/are the insight(s) found from the chart?"
      ],
      "metadata": {
        "id": "tgIPom80phqQ"
      }
    },
    {
      "cell_type": "markdown",
      "source": [
        "Answer Here"
      ],
      "metadata": {
        "id": "Qp13pnNzphqQ"
      }
    },
    {
      "cell_type": "markdown",
      "source": [
        "##### 3. Will the gained insights help creating a positive business impact?\n",
        "Are there any insights that lead to negative growth? Justify with specific reason."
      ],
      "metadata": {
        "id": "JMzcOPDDphqR"
      }
    },
    {
      "cell_type": "markdown",
      "source": [
        "Answer Here"
      ],
      "metadata": {
        "id": "R4Ka1PC2phqR"
      }
    },
    {
      "cell_type": "markdown",
      "source": [
        "#### Chart - 11"
      ],
      "metadata": {
        "id": "x-EpHcCOp1ci"
      }
    },
    {
      "cell_type": "code",
      "source": [
        "# Chart - 11 visualization code"
      ],
      "metadata": {
        "id": "mAQTIvtqp1cj"
      },
      "execution_count": null,
      "outputs": []
    },
    {
      "cell_type": "markdown",
      "source": [
        "##### 1. Why did you pick the specific chart?"
      ],
      "metadata": {
        "id": "X_VqEhTip1ck"
      }
    },
    {
      "cell_type": "markdown",
      "source": [
        "Answer Here."
      ],
      "metadata": {
        "id": "-vsMzt_np1ck"
      }
    },
    {
      "cell_type": "markdown",
      "source": [
        "##### 2. What is/are the insight(s) found from the chart?"
      ],
      "metadata": {
        "id": "8zGJKyg5p1ck"
      }
    },
    {
      "cell_type": "markdown",
      "source": [
        "Answer Here"
      ],
      "metadata": {
        "id": "ZYdMsrqVp1ck"
      }
    },
    {
      "cell_type": "markdown",
      "source": [
        "##### 3. Will the gained insights help creating a positive business impact?\n",
        "Are there any insights that lead to negative growth? Justify with specific reason."
      ],
      "metadata": {
        "id": "PVzmfK_Ep1ck"
      }
    },
    {
      "cell_type": "markdown",
      "source": [
        "Answer Here"
      ],
      "metadata": {
        "id": "druuKYZpp1ck"
      }
    },
    {
      "cell_type": "markdown",
      "source": [
        "#### Chart - 12"
      ],
      "metadata": {
        "id": "n3dbpmDWp1ck"
      }
    },
    {
      "cell_type": "code",
      "source": [
        "# Chart - 12 visualization code"
      ],
      "metadata": {
        "id": "bwevp1tKp1ck"
      },
      "execution_count": null,
      "outputs": []
    },
    {
      "cell_type": "markdown",
      "source": [
        "##### 1. Why did you pick the specific chart?"
      ],
      "metadata": {
        "id": "ylSl6qgtp1ck"
      }
    },
    {
      "cell_type": "markdown",
      "source": [
        "Answer Here."
      ],
      "metadata": {
        "id": "m2xqNkiQp1ck"
      }
    },
    {
      "cell_type": "markdown",
      "source": [
        "##### 2. What is/are the insight(s) found from the chart?"
      ],
      "metadata": {
        "id": "ZWILFDl5p1ck"
      }
    },
    {
      "cell_type": "markdown",
      "source": [
        "Answer Here"
      ],
      "metadata": {
        "id": "x-lUsV2mp1ck"
      }
    },
    {
      "cell_type": "markdown",
      "source": [
        "##### 3. Will the gained insights help creating a positive business impact?\n",
        "Are there any insights that lead to negative growth? Justify with specific reason."
      ],
      "metadata": {
        "id": "M7G43BXep1ck"
      }
    },
    {
      "cell_type": "markdown",
      "source": [
        "Answer Here"
      ],
      "metadata": {
        "id": "5wwDJXsLp1cl"
      }
    },
    {
      "cell_type": "markdown",
      "source": [
        "#### Chart - 13"
      ],
      "metadata": {
        "id": "Ag9LCva-p1cl"
      }
    },
    {
      "cell_type": "code",
      "source": [
        "# Chart - 13 visualization code"
      ],
      "metadata": {
        "id": "EUfxeq9-p1cl"
      },
      "execution_count": null,
      "outputs": []
    },
    {
      "cell_type": "markdown",
      "source": [
        "##### 1. Why did you pick the specific chart?"
      ],
      "metadata": {
        "id": "E6MkPsBcp1cl"
      }
    },
    {
      "cell_type": "markdown",
      "source": [
        "Answer Here."
      ],
      "metadata": {
        "id": "V22bRsFWp1cl"
      }
    },
    {
      "cell_type": "markdown",
      "source": [
        "##### 2. What is/are the insight(s) found from the chart?"
      ],
      "metadata": {
        "id": "2cELzS2fp1cl"
      }
    },
    {
      "cell_type": "markdown",
      "source": [
        "Answer Here"
      ],
      "metadata": {
        "id": "ozQPc2_Ip1cl"
      }
    },
    {
      "cell_type": "markdown",
      "source": [
        "##### 3. Will the gained insights help creating a positive business impact?\n",
        "Are there any insights that lead to negative growth? Justify with specific reason."
      ],
      "metadata": {
        "id": "3MPXvC8up1cl"
      }
    },
    {
      "cell_type": "markdown",
      "source": [
        "Answer Here"
      ],
      "metadata": {
        "id": "GL8l1tdLp1cl"
      }
    },
    {
      "cell_type": "markdown",
      "source": [
        "#### Chart - 14 - Correlation Heatmap"
      ],
      "metadata": {
        "id": "NC_X3p0fY2L0"
      }
    },
    {
      "cell_type": "code",
      "source": [
        "# Correlation Heatmap visualization code"
      ],
      "metadata": {
        "id": "xyC9zolEZNRQ"
      },
      "execution_count": null,
      "outputs": []
    },
    {
      "cell_type": "markdown",
      "source": [
        "##### 1. Why did you pick the specific chart?"
      ],
      "metadata": {
        "id": "UV0SzAkaZNRQ"
      }
    },
    {
      "cell_type": "markdown",
      "source": [
        "Answer Here."
      ],
      "metadata": {
        "id": "DVPuT8LYZNRQ"
      }
    },
    {
      "cell_type": "markdown",
      "source": [
        "##### 2. What is/are the insight(s) found from the chart?"
      ],
      "metadata": {
        "id": "YPEH6qLeZNRQ"
      }
    },
    {
      "cell_type": "markdown",
      "source": [
        "Answer Here"
      ],
      "metadata": {
        "id": "bfSqtnDqZNRR"
      }
    },
    {
      "cell_type": "markdown",
      "source": [
        "#### Chart - 15 - Pair Plot"
      ],
      "metadata": {
        "id": "q29F0dvdveiT"
      }
    },
    {
      "cell_type": "code",
      "source": [
        "# Pair Plot visualization code"
      ],
      "metadata": {
        "id": "o58-TEIhveiU"
      },
      "execution_count": null,
      "outputs": []
    },
    {
      "cell_type": "markdown",
      "source": [
        "##### 1. Why did you pick the specific chart?"
      ],
      "metadata": {
        "id": "EXh0U9oCveiU"
      }
    },
    {
      "cell_type": "markdown",
      "source": [
        "Answer Here."
      ],
      "metadata": {
        "id": "eMmPjTByveiU"
      }
    },
    {
      "cell_type": "markdown",
      "source": [
        "##### 2. What is/are the insight(s) found from the chart?"
      ],
      "metadata": {
        "id": "22aHeOlLveiV"
      }
    },
    {
      "cell_type": "markdown",
      "source": [
        "Answer Here"
      ],
      "metadata": {
        "id": "uPQ8RGwHveiV"
      }
    },
    {
      "cell_type": "markdown",
      "source": [
        "## **5. Solution to Business Objective**"
      ],
      "metadata": {
        "id": "JcMwzZxoAimU"
      }
    },
    {
      "cell_type": "markdown",
      "source": [
        "#### What do you suggest the client to achieve Business Objective ?\n",
        "Explain Briefly."
      ],
      "metadata": {
        "id": "8G2x9gOozGDZ"
      }
    },
    {
      "cell_type": "markdown",
      "source": [
        "Answer Here."
      ],
      "metadata": {
        "id": "pASKb0qOza21"
      }
    },
    {
      "cell_type": "markdown",
      "source": [
        "# **Conclusion**"
      ],
      "metadata": {
        "id": "gCX9965dhzqZ"
      }
    },
    {
      "cell_type": "markdown",
      "source": [
        "Write the conclusion here."
      ],
      "metadata": {
        "id": "Fjb1IsQkh3yE"
      }
    },
    {
      "cell_type": "markdown",
      "source": [
        "### ***Hurrah! You have successfully completed your EDA Capstone Project !!!***"
      ],
      "metadata": {
        "id": "gIfDvo9L0UH2"
      }
    }
  ]
}